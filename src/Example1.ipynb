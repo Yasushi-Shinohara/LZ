{
 "cells": [
  {
   "cell_type": "markdown",
   "id": "511c6f55",
   "metadata": {},
   "source": [
    "# Generic eq.\n",
    "\n",
    "$$\n",
    "\\mathrm{i} \\epsilon \\frac{\\mathrm{d}}{\\mathrm{d} \\tau}\n",
    "\\begin{pmatrix}\n",
    "  a \\\\\n",
    "  b\n",
    "\\end{pmatrix}\n",
    "=\n",
    "\\begin{pmatrix}\n",
    "  \\tau & 1 \\\\\n",
    "  1  & - \\tau\n",
    "\\end{pmatrix}\n",
    "\\begin{pmatrix}\n",
    "  a \\\\\n",
    "  b\n",
    "\\end{pmatrix}\n",
    "$$"
   ]
  },
  {
   "cell_type": "markdown",
   "id": "2649bb21",
   "metadata": {},
   "source": [
    "# A variation\n",
    "\n",
    "$$\n",
    "\\mathrm{i} \\frac{\\mathrm{d}}{\\mathrm{d}t}\n",
    "\\begin{pmatrix}\n",
    "  a \\\\\n",
    "  b\n",
    "\\end{pmatrix}\n",
    "=\n",
    "\\begin{pmatrix}\n",
    "  \\frac{1}{2}P E t & v \\\\\n",
    "  v  & - \\frac{1}{2}P E t\n",
    "\\end{pmatrix}\n",
    "\\begin{pmatrix}\n",
    "  a \\\\\n",
    "  b\n",
    "\\end{pmatrix}\n",
    "$$\n",
    "\n",
    "$\\tau = PE t/ (2v)$ $1/  \\mathrm{d} t =  PE / (2v ) (1 / \\mathrm{d} \\tau )$\n",
    "\n",
    "$$\n",
    "\\mathrm{i} \\frac{PE}{2v^2} \\frac{\\mathrm{d}}{\\mathrm{d} \\tau}\n",
    "\\begin{pmatrix}\n",
    "  a \\\\\n",
    "  b\n",
    "\\end{pmatrix}\n",
    "=\n",
    "\\begin{pmatrix}\n",
    "  \\tau & 1 \\\\\n",
    "  1  & - \\tau\n",
    "\\end{pmatrix}\n",
    "\\begin{pmatrix}\n",
    "  a \\\\\n",
    "  b\n",
    "\\end{pmatrix}\n",
    "$$\n",
    "$\\epsilon = \\frac{PE}{2v^2} $"
   ]
  },
  {
   "cell_type": "code",
   "execution_count": null,
   "id": "241b4a8f",
   "metadata": {},
   "outputs": [],
   "source": []
  }
 ],
 "metadata": {
  "kernelspec": {
   "display_name": "Python 3",
   "language": "python",
   "name": "python3"
  },
  "language_info": {
   "codemirror_mode": {
    "name": "ipython",
    "version": 3
   },
   "file_extension": ".py",
   "mimetype": "text/x-python",
   "name": "python",
   "nbconvert_exporter": "python",
   "pygments_lexer": "ipython3",
   "version": "3.8.8"
  }
 },
 "nbformat": 4,
 "nbformat_minor": 5
}
